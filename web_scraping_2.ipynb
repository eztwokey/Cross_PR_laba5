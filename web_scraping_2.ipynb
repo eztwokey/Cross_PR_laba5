{
 "cells": [
  {
   "cell_type": "markdown",
   "metadata": {},
   "source": [
    "# Гончаров Кирилл\n",
    "## ИВТ-б-о-19-1\n",
    "## Лабораторная работа 5"
   ]
  },
  {
   "cell_type": "markdown",
   "metadata": {
    "colab_type": "text",
    "id": "vg-HOITYJAy0"
   },
   "source": [
    "#### Основы программирования в Python для социальных наук\n",
    "\n",
    "*Автор: Татьяна Рогович, НИУ ВШЭ*\n",
    "\n",
    "\n",
    "## Cамостоятельная работа 3\n",
    "\n",
    "## Вариант 1\n",
    "\n",
    "Самостоятельная работа по темам:\n",
    "\n",
    "* Web-scraping\n",
    "\n",
    "**Списывание и использование телефонов**\n",
    "\n",
    "Первое предупреждение, сделанное ассистентом или преподавателем: - 1 балл к вашей оценке. \n",
    "\n",
    "Второе предупреждение: работа аннулируется без права переписывания.\n",
    "\n",
    "**Все задачи, где не указано иного, должны принимать значения на ввод (решение для частного случая будет считаться неполным).**"
   ]
  },
  {
   "cell_type": "markdown",
   "metadata": {
    "colab_type": "text",
    "id": "S3g4tDtrMoxX"
   },
   "source": [
    "**Задание 1.**  \n",
    "*5 баллов*  \n",
    "\n",
    "1. На странице в https://en.wikipedia.org/wiki/List_of_Rick_and_Morty_episodes нужно найти таблицу под названием \"Season 1 (2013–14)\". \n",
    "2. С помощью поиска по тегам, нужно сохранить из таблицы следующие колонки: 'Title', 'Directed By', 'U.S. viewers (millions)'. Каждая колонка таблицы должна быть сохранена в отдельную переменную (см. ниже названия), внутри которой лежит список, где первое значение - название колонки. \n",
    "\n",
    "Обратите внимание, положение элемента в ряде с table headers (th) и в обыкновенных рядах (теги td) может не совпадать.\n",
    "\n",
    "Например, колонки 'Title' список будет выглядеть так:  \n",
    "['Title', \"Pilot\", ...остальные значения..., \t\"Ricksy Business\"]\n",
    "\n",
    "Значения для 'U.S. viewers (millions)' на этом этапе могут содержать ссылки (например, '1.10[7]')\n",
    "\n",
    "3. Выведите эти три списка командой  \n",
    "print(titles)  \n",
    "print(directors)  \n",
    "print(viewers)"
   ]
  },
  {
   "cell_type": "code",
   "execution_count": 24,
   "metadata": {
    "colab": {},
    "colab_type": "code",
    "id": "KRw05f_FKOXQ"
   },
   "outputs": [
    {
     "name": "stdout",
     "output_type": "stream",
     "text": [
      "['Title', '\"Pilot\"', '\"Lawnmower Dog\"', '\"Anatomy Park\"', '\"M. Night Shaym-Aliens!\"', '\"Meeseeks and Destroy\"', '\"Rick Potion #9\"', '\"Raising Gazorpazorp\"', '\"Rixty Minutes\"', '\"Something Ricked This Way Comes\"', '\"Close Rick-counters of the Rick Kind\"', '\"Ricksy Business\"']\n",
      "['Directed by', 'Justin Roiland', 'John Rice', 'John Rice', 'Jeff Myers', 'Bryan Newton', 'Stephen Sandoval', 'Jeff Myers', 'Bryan Newton', 'John Rice', 'Stephen Sandoval', 'Stephen Sandoval']\n",
      "['U.S. viewers(millions)', 1.1, 1.51, 1.3, 1.32, 1.61, 1.75, 1.76, 1.48, 1.54, 1.75, 2.13]\n"
     ]
    }
   ],
   "source": [
    "import requests\n",
    "from bs4 import BeautifulSoup\n",
    "\n",
    "website_url = requests.get('https://en.wikipedia.org/wiki/List_of_Rick_and_Morty_episodes').text\n",
    "soup = BeautifulSoup(website_url,'lxml')\n",
    "\n",
    "My_table = soup.find_all('table',{'class':'wikitable plainrowheaders wikiepisodetable'})\n",
    "\n",
    "rows = My_table[0].find_all('tr')\n",
    "\n",
    "Title = []\n",
    "Title.append(rows[0].find_all('th')[2].get_text().strip())\n",
    "for row in rows[1:]:\n",
    "    r = row.find_all('td')\n",
    "    Title.append(r[1].get_text().strip())\n",
    "    \n",
    "Directed = []\n",
    "Directed.append(rows[0].find_all('th')[3].get_text().strip())\n",
    "for row in rows[1:]:\n",
    "    r = row.find_all('td')\n",
    "    Directed.append(r[2].get_text().strip())\n",
    "    \n",
    "Viewers = []\n",
    "Viewers.append(rows[0].find_all('th')[6].get_text().strip())\n",
    "for row in rows[1:]:\n",
    "    r = row.find_all('td')\n",
    "    value = r[5].get_text().strip()\n",
    "    values = value.split('[')\n",
    "    Viewers.append(float(values[0]))\n",
    "    \n",
    "print(Title)\n",
    "print(Directed)\n",
    "print(Viewers)\n"
   ]
  },
  {
   "cell_type": "markdown",
   "metadata": {
    "colab_type": "text",
    "id": "sZFN--3fNTt2"
   },
   "source": [
    "**Задание 2.**  \n",
    "*5 баллов (каждый шаг 1 балл)*  \n",
    "\n",
    "1. Из списка viewers удалите то, что в wiki было ссылками (номера в квадратных строках) и переведите значения во float.\n",
    "Правильный список viewers будет выглядеть так:  \n",
    "['U.S. viewers(millions)', 1.1 ...]\n",
    "\n",
    "2. Создайте словарь season1, в котором ключ - название эпизода, а значение - список из имени режиссера, количества зрителей (в формате float), и номера эпизода (не учитывая названия колонок в нулевом элементе). Например, пара ключ-значение для первого эпизода будет выглядеть так  \n",
    "`'\"Pilot\"': ['Justin Roiland', 1.1, 1]`\n",
    "2. Напишите функцию, которая берет аргументом название эпизода и печатает следующую строку: {номер эпизода} Episode {название эпизода} (directed by {имя режиссера} was watched by {количество зрителей} million viewers in the US.\n",
    "\n",
    "3. Запустите вашу функцию в цикле для всех эпизодов (не учитывая названия колонки в нулевом элементе).\n",
    "\n",
    "5. Сколько всего зрителей посмотрело эпизоды, которые режиссировал Stephen Sandoval?"
   ]
  },
  {
   "cell_type": "code",
   "execution_count": 25,
   "metadata": {},
   "outputs": [
    {
     "name": "stdout",
     "output_type": "stream",
     "text": [
      "['Title', '\"Pilot\"', '\"Lawnmower Dog\"', '\"Anatomy Park\"', '\"M. Night Shaym-Aliens!\"', '\"Meeseeks and Destroy\"', '\"Rick Potion #9\"', '\"Raising Gazorpazorp\"', '\"Rixty Minutes\"', '\"Something Ricked This Way Comes\"', '\"Close Rick-counters of the Rick Kind\"', '\"Ricksy Business\"']\n",
      "['U.S. viewers(millions)', '1.10[5]', '1.51[6]', '1.30[7]', '1.32[8]', '1.61[9]', '1.75[10]', '1.76[11]', '1.48[12]', '1.54[13]', '1.75[14]', '2.13[15]']\n",
      "['Directed by', 'Justin Roiland', 'John Rice', 'John Rice', 'Jeff Myers', 'Bryan Newton', 'Stephen Sandoval', 'Jeff Myers', 'Bryan Newton', 'John Rice', 'Stephen Sandoval', 'Stephen Sandoval']\n"
     ]
    }
   ],
   "source": [
    "# Запустите эту ячейку\n",
    "titles = ['Title', '\"Pilot\"', '\"Lawnmower Dog\"', '\"Anatomy Park\"', '\"M. Night Shaym-Aliens!\"', '\"Meeseeks and Destroy\"', '\"Rick Potion #9\"', '\"Raising Gazorpazorp\"', '\"Rixty Minutes\"', '\"Something Ricked This Way Comes\"', '\"Close Rick-counters of the Rick Kind\"', '\"Ricksy Business\"']\n",
    "viewers = ['U.S. viewers(millions)', '1.10[5]', '1.51[6]', '1.30[7]', '1.32[8]', '1.61[9]', '1.75[10]', '1.76[11]', '1.48[12]', '1.54[13]', '1.75[14]', '2.13[15]']\n",
    "directors = ['Directed by', 'Justin Roiland', 'John Rice', 'John Rice', 'Jeff Myers', 'Bryan Newton', 'Stephen Sandoval', 'Jeff Myers', 'Bryan Newton', 'John Rice', 'Stephen Sandoval', 'Stephen Sandoval']\n",
    "\n",
    "print(titles)\n",
    "print(viewers)\n",
    "print(directors)"
   ]
  },
  {
   "cell_type": "code",
   "execution_count": 29,
   "metadata": {
    "colab": {
     "base_uri": "https://localhost:8080/",
     "height": 34
    },
    "colab_type": "code",
    "id": "pwLxGVugPVys",
    "outputId": "0eb3382d-eba5-4e68-8edb-2b3e15a57ac0"
   },
   "outputs": [
    {
     "data": {
      "text/plain": [
       "['U.S. viewers(millions)',\n",
       " 1.1,\n",
       " 1.51,\n",
       " 1.3,\n",
       " 1.32,\n",
       " 1.61,\n",
       " 1.75,\n",
       " 1.76,\n",
       " 1.48,\n",
       " 1.54,\n",
       " 1.75,\n",
       " 2.13]"
      ]
     },
     "execution_count": 29,
     "metadata": {},
     "output_type": "execute_result"
    }
   ],
   "source": [
    "# 1\n",
    "new_viewers = []\n",
    "new_viewers.append(viewers[0])\n",
    "for i in viewers[1:]:\n",
    "    value =  i.split('[')\n",
    "    new_viewers.append(float(value[0]))\n",
    "new_viewers"
   ]
  },
  {
   "cell_type": "code",
   "execution_count": 32,
   "metadata": {},
   "outputs": [
    {
     "data": {
      "text/plain": [
       "{'\"Pilot\"': ['Justin Roiland', 1.1, 1],\n",
       " '\"Lawnmower Dog\"': ['John Rice', 1.51, 2],\n",
       " '\"Anatomy Park\"': ['John Rice', 1.3, 3],\n",
       " '\"M. Night Shaym-Aliens!\"': ['Jeff Myers', 1.32, 4],\n",
       " '\"Meeseeks and Destroy\"': ['Bryan Newton', 1.61, 5],\n",
       " '\"Rick Potion #9\"': ['Stephen Sandoval', 1.75, 6],\n",
       " '\"Raising Gazorpazorp\"': ['Jeff Myers', 1.76, 7],\n",
       " '\"Rixty Minutes\"': ['Bryan Newton', 1.48, 8],\n",
       " '\"Something Ricked This Way Comes\"': ['John Rice', 1.54, 9],\n",
       " '\"Close Rick-counters of the Rick Kind\"': ['Stephen Sandoval', 1.75, 10],\n",
       " '\"Ricksy Business\"': ['Stephen Sandoval', 2.13, 11]}"
      ]
     },
     "execution_count": 32,
     "metadata": {},
     "output_type": "execute_result"
    }
   ],
   "source": [
    "# 2\n",
    "season1 = {}\n",
    "for idx, value in enumerate(titles[1:]):\n",
    "    season1[value] = [Directed[idx+1], Viewers[idx+1], idx+1]\n",
    "    \n",
    "season1"
   ]
  },
  {
   "cell_type": "code",
   "execution_count": 37,
   "metadata": {},
   "outputs": [],
   "source": [
    "# 3\n",
    "def episodes_info(episode):\n",
    "    for idx, value in enumerate(titles[1:]):\n",
    "        if value == episode:\n",
    "            number = idx+1\n",
    "            director = Directed[idx+1]\n",
    "            viewers = Viewers[idx+1]\n",
    "    print(f'{number} Episode {episode} directed by {director} was watched by {viewers} million viewers in the US')"
   ]
  },
  {
   "cell_type": "code",
   "execution_count": 40,
   "metadata": {},
   "outputs": [
    {
     "name": "stdout",
     "output_type": "stream",
     "text": [
      "1 Episode \"Pilot\" directed by Justin Roiland was watched by 1.1 million viewers in the US\n",
      "2 Episode \"Lawnmower Dog\" directed by John Rice was watched by 1.51 million viewers in the US\n",
      "3 Episode \"Anatomy Park\" directed by John Rice was watched by 1.3 million viewers in the US\n",
      "4 Episode \"M. Night Shaym-Aliens!\" directed by Jeff Myers was watched by 1.32 million viewers in the US\n",
      "5 Episode \"Meeseeks and Destroy\" directed by Bryan Newton was watched by 1.61 million viewers in the US\n",
      "6 Episode \"Rick Potion #9\" directed by Stephen Sandoval was watched by 1.75 million viewers in the US\n",
      "7 Episode \"Raising Gazorpazorp\" directed by Jeff Myers was watched by 1.76 million viewers in the US\n",
      "8 Episode \"Rixty Minutes\" directed by Bryan Newton was watched by 1.48 million viewers in the US\n",
      "9 Episode \"Something Ricked This Way Comes\" directed by John Rice was watched by 1.54 million viewers in the US\n",
      "10 Episode \"Close Rick-counters of the Rick Kind\" directed by Stephen Sandoval was watched by 1.75 million viewers in the US\n",
      "11 Episode \"Ricksy Business\" directed by Stephen Sandoval was watched by 2.13 million viewers in the US\n"
     ]
    }
   ],
   "source": [
    "#4\n",
    "for episode in Title[1:]:\n",
    "    episodes_info(episode)"
   ]
  },
  {
   "cell_type": "code",
   "execution_count": 41,
   "metadata": {},
   "outputs": [
    {
     "data": {
      "text/plain": [
       "5.63"
      ]
     },
     "execution_count": 41,
     "metadata": {},
     "output_type": "execute_result"
    }
   ],
   "source": [
    "# 5\n",
    "summ = 0\n",
    "for idx, value in enumerate(directors[1:]):\n",
    "    if value == 'Stephen Sandoval':\n",
    "        summ += Viewers[idx+1]\n",
    "        \n",
    "summ       "
   ]
  }
 ],
 "metadata": {
  "colab": {
   "collapsed_sections": [],
   "name": "1_HW_RISO_Solved",
   "provenance": []
  },
  "kernelspec": {
   "display_name": "Python 3",
   "language": "python",
   "name": "python3"
  },
  "language_info": {
   "codemirror_mode": {
    "name": "ipython",
    "version": 3
   },
   "file_extension": ".py",
   "mimetype": "text/x-python",
   "name": "python",
   "nbconvert_exporter": "python",
   "pygments_lexer": "ipython3",
   "version": "3.8.5"
  }
 },
 "nbformat": 4,
 "nbformat_minor": 2
}
